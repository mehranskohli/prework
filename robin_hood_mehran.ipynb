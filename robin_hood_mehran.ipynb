{
  "nbformat": 4,
  "nbformat_minor": 0,
  "metadata": {
    "kernelspec": {
      "display_name": "Python 3",
      "language": "python",
      "name": "python3"
    },
    "language_info": {
      "codemirror_mode": {
        "name": "ipython",
        "version": 3
      },
      "file_extension": ".py",
      "mimetype": "text/x-python",
      "name": "python",
      "nbconvert_exporter": "python",
      "pygments_lexer": "ipython3",
      "version": "3.7.2"
    },
    "colab": {
      "name": "robin-hood_mehran.ipynb",
      "provenance": []
    }
  },
  "cells": [
    {
      "cell_type": "markdown",
      "metadata": {
        "id": "EwjCqZ2qEhjC",
        "colab_type": "text"
      },
      "source": [
        "# Robin Hood:\n",
        "We are in a competition to win the archery contest in Sherwood. With our bow and arrows we shoot on a target and try to hit as close as possible to the center.\n",
        "\n",
        "The center of the target is represented by the values (0, 0) on the coordinate axes.\n",
        "\n",
        "![](images/arrows.jpg)\n",
        "\n",
        "## Goals:\n",
        "* data structures: lists, sets, tuples\n",
        "* logical operators: if-elif-else\n",
        "* loop: while/for\n",
        "* minimum (optional sorting)\n",
        "\n",
        "## Description:\n",
        "In the 2-dimensional space, a point can be defined by a pair of values that correspond to the horizontal coordinate (x) and the vertical coordinate (y). The space can be divided into 4 zones (quadrants): Q1, Q2, Q3, Q4. Whose single point of union is the point (0, 0).\n",
        "\n",
        "If a point is in Q1 both its x coordinate and the y are positive. I leave a link to wikipedia to familiarize yourself with these quadrants.\n",
        "\n",
        "https://en.wikipedia.org/wiki/Cartesian_coordinate_system\n",
        "\n",
        "https://en.wikipedia.org/wiki/Euclidean_distance\n",
        "\n",
        "## Shots\n",
        "```\n",
        "points = [(4, 5), (-0, 2), (4, 7), (1, -3), (3, -2), (4, 5),\n",
        "          (3, 2), (5, 7), (-5, 7), (2, 2), (-4, 5), (0, -2),\n",
        "          (-4, 7), (-1, 3), (-3, 2), (-4, -5), (-3, 2),\n",
        "          (5, 7), (5, 7), (2, 2), (9, 9), (-8, -9)]\n",
        "```\n",
        "\n",
        "## Tasks\n",
        "1. Robin Hood is famous for hitting an arrow with another arrow. Did you get it?\n",
        "2. Calculate how many arrows have fallen in each quadrant.\n",
        "3. Find the point closest to the center. Calculate its distance to the center. \n",
        "4. If the target has a radius of 9, calculate the number of arrows that must be picked up in the forest."
      ]
    },
    {
      "cell_type": "code",
      "metadata": {
        "id": "qB69_0ZNEhjH",
        "colab_type": "code",
        "colab": {}
      },
      "source": [
        "# Variables\n",
        "\n",
        "points = [(4, 5), (-0, 2), (4, 7), (1, -3), (3, -2), (4, 5),\n",
        "          (3, 2), (5, 7), (-5, 7), (2, 2), (-4, 5), (0, -2),\n",
        "          (-4, 7), (-1, 3), (-3, 2), (-4, -5), (-3, 2),\n",
        "          (5, 7), (5, 7), (2, 2), (9, 9), (-8, -9)]"
      ],
      "execution_count": 0,
      "outputs": []
    },
    {
      "cell_type": "code",
      "metadata": {
        "id": "Km2AQ6aWEhjN",
        "colab_type": "code",
        "colab": {}
      },
      "source": [
        "# 1. Robin Hood is famous for hitting an arrow with another arrow. Did you get it?\n",
        "\n",
        "#Yes"
      ],
      "execution_count": 0,
      "outputs": []
    },
    {
      "cell_type": "code",
      "metadata": {
        "id": "Vox67CLwEhjQ",
        "colab_type": "code",
        "outputId": "9c739b30-2932-44e5-caef-808898ce6c6c",
        "colab": {
          "base_uri": "https://localhost:8080/",
          "height": 34
        }
      },
      "source": [
        "# 2. Calculate how many arrows have fallen in each quadrant.\n",
        "points = [(4, 5), (-0, 2), (4, 7), (1, -3), (3, -2), (4, 5),\n",
        "          (3, 2), (5, 7), (-5, 7), (2, 2), (-4, 5), (0, -2),\n",
        "          (-4, 7), (-1, 3), (-3, 2), (-4, -5), (-3, 2),\n",
        "          (5, 7), (5, 7), (2, 2), (9, 9), (-8, -9)]\n",
        "\n",
        "Q1 = 0\n",
        "Q2 = 0\n",
        "Q3 = 0\n",
        "Q4 = 0\n",
        "on_axis = 0\n",
        "\n",
        "for i in range (len(points)) :\n",
        "    x = points[i][0]\n",
        "    y = points[i][1]\n",
        "    \n",
        "    if x>0 and y>0:\n",
        "        Q1 += 1\n",
        "    \n",
        "    elif x<0 and y>0:\n",
        "        Q2 += 1\n",
        "    \n",
        "    elif x<0 and y<0:\n",
        "        Q3 += 1\n",
        "    \n",
        "    elif x>0 and y<0:\n",
        "        Q4 += 1\n",
        "    \n",
        "    else: \n",
        "        on_axis += 1\n",
        "\n",
        "print (Q1, Q2, Q3, Q4, on_axis)"
      ],
      "execution_count": 7,
      "outputs": [
        {
          "output_type": "stream",
          "text": [
            "10 6 2 2 2\n"
          ],
          "name": "stdout"
        }
      ]
    },
    {
      "cell_type": "code",
      "metadata": {
        "id": "AUqtM-HTEhjS",
        "colab_type": "code",
        "outputId": "86baddce-af71-4a0d-f82e-a1d8c9211085",
        "colab": {
          "base_uri": "https://localhost:8080/",
          "height": 51
        }
      },
      "source": [
        "# 3. Find the point closest to the center. Calculate its distance to the center\n",
        "# Defining a function that calculates the distance to the center can help.\n",
        "\n",
        "import math \n",
        "\n",
        "points = [(4, 5), (-0, 2), (4, 7), (1, -3), (3, -2), (4, 5),\n",
        "          (3, 2), (5, 7), (-5, 7), (2, 2), (-4, 5), (0, -2),\n",
        "          (-4, 7), (-1, 3), (-3, 2), (-4, -5), (-3, 2),\n",
        "          (5, 7), (5, 7), (2, 2), (9, 9), (-8, -9)]\n",
        "\n",
        "def pytho(x,y):\n",
        "    return math.sqrt(x**2 + y**2)\n",
        "\n",
        "list = []\n",
        "for x,y in points:\n",
        "    list.append(pytho(x,y))\n",
        "  \n",
        "min_value = min(list)\n",
        "min_index = list.index(min_value)\n",
        "\n",
        "print('distance',min_value)\n",
        "print ('index',min_index)\n"
      ],
      "execution_count": 8,
      "outputs": [
        {
          "output_type": "stream",
          "text": [
            "distance 2.0\n",
            "index 1\n"
          ],
          "name": "stdout"
        }
      ]
    },
    {
      "cell_type": "code",
      "metadata": {
        "id": "LUv_ILiaEhjV",
        "colab_type": "code",
        "colab": {
          "base_uri": "https://localhost:8080/",
          "height": 34
        },
        "outputId": "b2ff1d83-b1e4-49c8-b376-bbc2cf25dd49"
      },
      "source": [
        "# 4. If the target has a radius of 9, calculate the number of arrows that \n",
        "# must be picked up in the forest.\n",
        "\n",
        "arrows_out = []\n",
        "\n",
        "for i in points:\n",
        "    x = i[0]\n",
        "    y = i[1]\n",
        "    if (x >= 9) or (y >= 9) or (x <= -9) or (y <= -9):\n",
        "        arrows_out.append(i)\n",
        "        \n",
        "print(len(arrows_out))"
      ],
      "execution_count": 15,
      "outputs": [
        {
          "output_type": "stream",
          "text": [
            "2\n"
          ],
          "name": "stdout"
        }
      ]
    },
    {
      "cell_type": "code",
      "metadata": {
        "id": "ESuKSIvhEhjZ",
        "colab_type": "code",
        "colab": {}
      },
      "source": [
        ""
      ],
      "execution_count": 0,
      "outputs": []
    }
  ]
}