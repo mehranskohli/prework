{
  "nbformat": 4,
  "nbformat_minor": 0,
  "metadata": {
    "kernelspec": {
      "display_name": "Python 3",
      "language": "python",
      "name": "python3"
    },
    "language_info": {
      "codemirror_mode": {
        "name": "ipython",
        "version": 3
      },
      "file_extension": ".py",
      "mimetype": "text/x-python",
      "name": "python",
      "nbconvert_exporter": "python",
      "pygments_lexer": "ipython3",
      "version": "3.6.7"
    },
    "colab": {
      "name": "rock-paper-scissors_mehran.ipynb",
      "provenance": [],
      "collapsed_sections": []
    }
  },
  "cells": [
    {
      "cell_type": "markdown",
      "metadata": {
        "id": "fapsXR89BfO0",
        "colab_type": "text"
      },
      "source": [
        "# Rock Paper Scissors\n",
        "\n",
        "Let's play the famous game against our computer.\n",
        "\n",
        "https://en.wikipedia.org/wiki/Rock%E2%80%93paper%E2%80%93scissors\n",
        "\n",
        "The use of functions is recommended\n",
        "\n",
        "## Goals\n",
        "1. Use of loop\n",
        "2. Data capture by console\n",
        "3. Use if-elif-else\n",
        "4. Use of try-except\n",
        "5. Definition of functions. Modular programming\n",
        "6. Logical operators.\n",
        "7. Print\n",
        "8. Import modules"
      ]
    },
    {
      "cell_type": "code",
      "metadata": {
        "id": "6qsbP9PkBfO1",
        "colab_type": "code",
        "outputId": "8be8dbd0-c1d7-409a-b585-341a4f85090a",
        "colab": {
          "base_uri": "https://localhost:8080/",
          "height": 106
        }
      },
      "source": [
        "# Import the choice function of the random module\n",
        "# https://stackoverflow.com/questions/306400/how-to-randomly-select-an-item-from-a-list\n",
        "\n",
        "import random\n",
        "\n",
        "# Assign to a list the 3 possible options: 'stone', 'paper' or 'scissors'.\n",
        "\n",
        "list= ['rock','paper','scissors']\n",
        "\n",
        "#list = ['a','b']\n",
        "\n",
        "# Assign a variable to the maximum number of games: 1, 3, 5, etc ...\n",
        "\n",
        "max_games = 5\n",
        "\n",
        "# Assign a variable to the number of games a player must win to win.\n",
        "# Preferably the value will be based on the number of maximum games\n",
        "\n",
        "games_to_win = max_games\n",
        "\n",
        "# Define a function that randomly returns one of the 3 options.\n",
        "# This will correspond to the play of the machine. Totally random.\n",
        "def random_choice(list):\n",
        "  return random.choice(list)\n",
        "\n",
        "random_choice(['s','h'])\n",
        "\n",
        "# Define a function that asks your choice: 'stone', 'paper' or 'scissors'\n",
        "# you should only allow one of the 3 options. This is defensive programming.\n",
        "# If it is not stone, paper or scissors keep asking until it is.\n",
        "\n",
        "#x = input('Rock, Paper or Scissors?')\n",
        "#print(random.choice(list))\n",
        "\n",
        "print(\"1: rock\")\n",
        "print(\"2: paper\")\n",
        "print(\"3: scissors\")\n",
        "inp = int(input(\"Enter a number: \"))\n",
        "\n",
        "if inp == 1:\n",
        "    inp = \"rock\"\n",
        "elif inp == 2:\n",
        "    inp = \"paper\"\n",
        "elif inp == 3:\n",
        "    inp = \"scissors\"\n",
        "else:\n",
        "    print(inp = int(input(\"Enter a number: \")))\n",
        "\n",
        "    \n",
        "# Define a function that resolves a combat.\n",
        "# Returns 0 if there is a tie, 1 if the machine wins, 2 if the human player wins\n",
        "\n",
        "\n",
        "\n",
        "    \n",
        "# Define a function that shows the choice of each player and the state of the game\n",
        "# This function should be used every time accumulated points are updated\n",
        "\n",
        "    \n",
        "# Print by console the winner of the game based on who has more accumulated wins\n",
        "  "
      ],
      "execution_count": 0,
      "outputs": [
        {
          "output_type": "stream",
          "text": [
            "1: rock\n",
            "2: paper\n",
            "3: scissors\n"
          ],
          "name": "stdout"
        }
      ]
    },
    {
      "cell_type": "code",
      "metadata": {
        "id": "VVCuo2uJ2nl2",
        "colab_type": "code",
        "outputId": "14cb9f9c-3b0f-4926-cfc2-dea7b08d03a2",
        "colab": {
          "base_uri": "https://localhost:8080/",
          "height": 68
        }
      },
      "source": [
        "import random\n",
        "import math\n",
        "\n",
        "list= ['rock','paper','scissors']\n",
        "\n",
        "max_games = 5\n",
        "\n",
        "games_to_win = max_games\n",
        "\n",
        "def random_choice(list):\n",
        "  return random.choice(list)\n",
        "\n",
        "computer_choice= random.choice(list)\n",
        "human_choice= random.choice(list)\n",
        "    \n",
        "computer_wins=[]\n",
        "human_wins=[]\n",
        "draw=[]\n",
        "\n",
        "for x in range(max_games):\n",
        "    \n",
        "  if computer_choice == \"rock\" and human_choice == \"paper\":\n",
        "    human_choice.append(x)\n",
        "    \n",
        "  elif computer_choice == \"rock\" and human_choice == \"scissors\":\n",
        "    computer_choice.append(x)\n",
        "    \n",
        "  elif computer_choice == \"paper\" and human_choice == \"scissors\":\n",
        "    human_choice.append(x)  \n",
        "    \n",
        "  elif computer_choice == \"paper\" and human_choice == \"rock\":\n",
        "    computer_choice.append(x)\n",
        "    \n",
        "  elif computer_choice == \"scissors\" and human_choice == \"paper\":\n",
        "    computer_choice.append(x)\n",
        "    \n",
        "  elif computer_choice == \"scissors\" and human_choice == \"rock\":\n",
        "    human_choice.append(x)\n",
        "  \n",
        "  else: draw.append(x)\n",
        "    \n",
        "print('computer',len(computer_wins))\n",
        "print('human',len(human_wins))\n",
        "print('draw',len(draw))"
      ],
      "execution_count": 0,
      "outputs": [
        {
          "output_type": "stream",
          "text": [
            "computer 0\n",
            "human 0\n",
            "draw 5\n"
          ],
          "name": "stdout"
        }
      ]
    },
    {
      "cell_type": "markdown",
      "metadata": {
        "id": "JEmslxWCBfO6",
        "colab_type": "text"
      },
      "source": [
        "# Bonus: Stone, paper, scissors, lizard, spock\n",
        "\n",
        "Now the improvement begins.\n",
        "\n",
        "![](images/rpsls.jpg)\n",
        "\n",
        "\n",
        "http://www.samkass.com/theories/RPSSL.html\n",
        "\n",
        "You are asked to impliment some improvements with respect to the simple previous game. In addition, the number of games (which must be ODD) will be requested per console until a valid number is entered.\n",
        "\n",
        "Improvements:\n",
        "* 5 options: stone, paper, scissors, lizard, spock\n",
        "* The number of games is requested per console\n",
        "Tip: Reuse code that you already use. If you have programmed intelligently, the bonus are simple modifications to the original game."
      ]
    },
    {
      "cell_type": "code",
      "metadata": {
        "id": "b4752s1uBfO7",
        "colab_type": "code",
        "colab": {}
      },
      "source": [
        "# Import the choice function of the random module\n",
        "\n",
        "\n",
        "# Define a function that asks for an odd number on the keyboard, until it is not valid\n",
        "# will keep asking\n",
        "\n",
        "\n",
        "# Assign a list of 5 possible options.\n",
        "\n",
        "\n",
        "# Assign a variable to the maximum number of games: 1, 3, 5, etc ...\n",
        "# This time the previously defined function is used\n",
        "\n",
        "\n",
        "# Assign a variable to the number of games a player must win to win.\n",
        "# Preferably the value will be based on the number of maximum games\n",
        "\n",
        "\n",
        "# Define a function that randomly returns one of the 5 options.\n",
        "# This will correspond to the play of the machine. Totally random.\n",
        "\n",
        "\n",
        "# Define a function that asks your choice between 5\n",
        "# you should only allow one of the 5 options. This is defensive programming.\n",
        "# If it is not valid, keep asking until it is valid.\n",
        "\n",
        "\n",
        "# Define a function that resolves a combat.\n",
        "# Returns 0 if there is a tie, 1 if the machine wins, 2 if the human player wins\n",
        "# Now there are more options\n",
        " \n",
        "\n",
        "    \n",
        "# Define a function that shows the choice of each player and the state of the game\n",
        "# This function should be used every time accumulated points are updated\n",
        "\n",
        "    \n",
        "# Create two variables that accumulate the wins of each participant\n",
        "\n",
        "# Create a loop that iterates while no player reaches the minimum of wins\n",
        "# necessary to win. Inside the loop solves the play of the\n",
        "# machine and ask the player's. Compare them and update the value of the variables\n",
        "# that accumulate the wins of each participant.\n",
        "\n",
        "    \n",
        "    \n",
        "# Print by console the winner of the game based on who has more accumulated wins\n",
        "\n"
      ],
      "execution_count": 0,
      "outputs": []
    },
    {
      "cell_type": "code",
      "metadata": {
        "id": "fQ4qTJ7hBfO_",
        "colab_type": "code",
        "colab": {}
      },
      "source": [
        ""
      ],
      "execution_count": 0,
      "outputs": []
    }
  ]
}