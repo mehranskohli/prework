{
  "nbformat": 4,
  "nbformat_minor": 0,
  "metadata": {
    "colab": {
      "name": "snail_and_well_mehran.ipynb",
      "provenance": []
    },
    "kernelspec": {
      "display_name": "Python 3",
      "language": "python",
      "name": "python3"
    },
    "language_info": {
      "codemirror_mode": {
        "name": "ipython",
        "version": 3
      },
      "file_extension": ".py",
      "mimetype": "text/x-python",
      "name": "python",
      "nbconvert_exporter": "python",
      "pygments_lexer": "ipython3",
      "version": "3.6.4"
    }
  },
  "cells": [
    {
      "cell_type": "markdown",
      "metadata": {
        "colab_type": "text",
        "id": "c-JCKWOljUuU"
      },
      "source": [
        "# Snail and well\n",
        "\n",
        "A snail falls at the bottom of a 125 cm well. Each day the snail rises 30 cm. But at night, while sleeping, slides 20 cm because the walls are wet. How many days does it take to escape from the well?\n",
        "\n",
        "TIP: http://puzzles.nigelcoldwell.co.uk/sixtytwo.htm"
      ]
    },
    {
      "cell_type": "markdown",
      "metadata": {
        "colab_type": "text",
        "id": "W9ymMEzKjUuV"
      },
      "source": [
        "## Solución"
      ]
    },
    {
      "cell_type": "code",
      "metadata": {
        "colab_type": "code",
        "id": "io2zGZzijUuW",
        "outputId": "2f286874-2f1e-4cb0-f267-3a1d6f1da4b9",
        "colab": {
          "base_uri": "https://localhost:8080/",
          "height": 51
        }
      },
      "source": [
        "# Assign problem data to variables with representative names\n",
        "\n",
        "start_height = -125\n",
        "daily_advance = 30\n",
        "night_retreat = 20\n",
        "#accumulated_distance = daily_advance - night_retreat\n",
        "\n",
        "\n",
        "# well height, daily advance, night retreat, accumulated distance\n",
        "\n",
        "\n",
        "# Assign 0 to the variable that represents the solution\n",
        "#total_distance = 0\n",
        "# days = 0 \n",
        "\n",
        "# Write the code that solves the problem\n",
        "\n",
        "\n",
        "    \n",
        "print(\"Distance\")\n",
        "start_height = -125\n",
        "well_height  = 0 \n",
        "accumulated_distance = daily_advance - night_retreat\n",
        "well_height +=accumulated_distance \n",
        "\n",
        "for i in range(start_height, well_height, accumulated_distance):\n",
        "    print(i, end=', ')\n",
        "\n",
        "# Print the result with print('Days =', days)\n"
      ],
      "execution_count": 0,
      "outputs": [
        {
          "output_type": "stream",
          "text": [
            "Distance\n",
            "-125, -115, -105, -95, -85, -75, -65, -55, -45, -35, -25, -15, -5, 5, "
          ],
          "name": "stdout"
        }
      ]
    },
    {
      "cell_type": "code",
      "metadata": {
        "id": "BBj8J3vxghBm",
        "colab_type": "code",
        "colab": {}
      },
      "source": [
        "start_height = -125\n",
        "well_height  = 0 \n",
        "daily_distance = 10\n",
        "#accumulated_distance = daily_advance - night_retreat\n",
        "#well_height +=accumulated_distance \n",
        "\n",
        "#lst=[]\n",
        "days = 0\n",
        "\n",
        "while start_height < well_height:\n",
        "    print(start_height)\n",
        "    if (start_height+daily_distance) > 0:\n",
        "        print('lalalalal')\n",
        "        break\n",
        "    else:\n",
        "        start_height += 10\n",
        "        #lst.append(start_height)\n",
        "        days += 1\n",
        "    \n",
        "print('Days:', days)\n",
        "\n",
        "\n"
      ],
      "execution_count": 0,
      "outputs": []
    },
    {
      "cell_type": "code",
      "metadata": {
        "id": "CewoKsVMghBo",
        "colab_type": "code",
        "colab": {},
        "outputId": "4599edd7-bb68-4d2d-846c-5a62f07d4e02"
      },
      "source": [
        "print(daily_distance)"
      ],
      "execution_count": 0,
      "outputs": [
        {
          "output_type": "stream",
          "text": [
            "10\n"
          ],
          "name": "stdout"
        }
      ]
    },
    {
      "cell_type": "code",
      "metadata": {
        "id": "6Xi5pFOrghBx",
        "colab_type": "code",
        "colab": {}
      },
      "source": [
        "import math \n",
        "\n",
        "def pytho(x,y):\n",
        "    return math.sqrt(x**2 + y**2)"
      ],
      "execution_count": 0,
      "outputs": []
    },
    {
      "cell_type": "code",
      "metadata": {
        "id": "N3da-eWhghBz",
        "colab_type": "code",
        "colab": {},
        "outputId": "84be1afb-a707-4094-8873-a58a57179c33"
      },
      "source": [
        "math.sqrt(4**2 + 6**2)"
      ],
      "execution_count": 0,
      "outputs": [
        {
          "output_type": "execute_result",
          "data": {
            "text/plain": [
              "7.211102550927978"
            ]
          },
          "metadata": {
            "tags": []
          },
          "execution_count": 42
        }
      ]
    },
    {
      "cell_type": "code",
      "metadata": {
        "id": "0nIE2TDZghB1",
        "colab_type": "code",
        "colab": {}
      },
      "source": [
        "x = pytho(4,6) "
      ],
      "execution_count": 0,
      "outputs": []
    },
    {
      "cell_type": "code",
      "metadata": {
        "id": "vUu0bi1WghB2",
        "colab_type": "code",
        "colab": {},
        "outputId": "07be705e-f77e-4b93-db81-77d48ff0ae26"
      },
      "source": [
        "print(x)"
      ],
      "execution_count": 0,
      "outputs": [
        {
          "output_type": "stream",
          "text": [
            "7.211102550927978\n"
          ],
          "name": "stdout"
        }
      ]
    },
    {
      "cell_type": "markdown",
      "metadata": {
        "colab_type": "text",
        "id": "i721WNvAth3k"
      },
      "source": [
        "Answer: 13 Days"
      ]
    },
    {
      "cell_type": "markdown",
      "metadata": {
        "colab_type": "text",
        "id": "3FGOiobFjUuY"
      },
      "source": [
        "## Goals\n",
        "\n",
        "1. Treatment of variables\n",
        "2. Use of loop **while**\n",
        "3. Use of conditional **if-else**\n",
        "4. Print in console"
      ]
    },
    {
      "cell_type": "markdown",
      "metadata": {
        "colab_type": "text",
        "id": "8e2Sn5dzjUuZ"
      },
      "source": [
        "## Bonus\n",
        "The distance traveled by the snail is now defined by a list.\n",
        "```\n",
        "advance_cm = [30, 21, 33, 77, 44, 45, 23, 45, 12, 34, 55]\n",
        "```\n",
        "How long does it take to raise the well?\n",
        "\n",
        "What is its maximum displacement in one day? And its minimum?\n",
        "\n",
        "What is its average speed during the day?\n",
        "\n",
        "What is the standard deviation of its displacement during the day?"
      ]
    },
    {
      "cell_type": "code",
      "metadata": {
        "colab_type": "code",
        "id": "GQ7dtXsqjUua",
        "colab": {}
      },
      "source": [
        "# Assign problem data to variables with representative names\n",
        "# well height, daily advance, night retreat, accumulated distance\n",
        "\n",
        "\n",
        "# Assign 0 to the variable that represents the solution\n",
        "\n",
        "\n",
        "# Write the code that solves the problem\n",
        "\n",
        "\n",
        "\n",
        "# Print the result with print('Days =', days)\n",
        "\n",
        "\n",
        "# What is its maximum displacement in a day? And its minimum?\n",
        "\n",
        "\n",
        "\n",
        "# What is its average progress?\n",
        "\n",
        "\n",
        "# What is the standard deviation of your displacement during the day?\n",
        "\n"
      ],
      "execution_count": 0,
      "outputs": []
    },
    {
      "cell_type": "code",
      "metadata": {
        "colab_type": "code",
        "id": "VitKLs0VjUub",
        "colab": {}
      },
      "source": [
        ""
      ],
      "execution_count": 0,
      "outputs": []
    }
  ]
}