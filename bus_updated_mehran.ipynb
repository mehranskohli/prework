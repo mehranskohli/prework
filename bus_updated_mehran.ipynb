{
  "nbformat": 4,
  "nbformat_minor": 0,
  "metadata": {
    "colab": {
      "name": "bus_updated_mehran.ipynb",
      "provenance": [],
      "collapsed_sections": []
    },
    "kernelspec": {
      "display_name": "Python 3",
      "language": "python",
      "name": "python3"
    },
    "language_info": {
      "codemirror_mode": {
        "name": "ipython",
        "version": 3
      },
      "file_extension": ".py",
      "mimetype": "text/x-python",
      "name": "python",
      "nbconvert_exporter": "python",
      "pygments_lexer": "ipython3",
      "version": "3.6.4"
    }
  },
  "cells": [
    {
      "cell_type": "markdown",
      "metadata": {
        "colab_type": "text",
        "id": "npwtw1KHs8IB"
      },
      "source": [
        "# Bus\n",
        "\n",
        "This bus has a passenger entry and exit control system to monitor the number of occupants it carries and thus detect when there is too high a capacity.\n",
        "\n",
        "At each stop the entry and exit of passengers is represented by a tuple consisting of two integer numbers.\n",
        "```\n",
        "bus_stop = (in, out)\n",
        "```\n",
        "The succession of stops is represented by a list of these tuples.\n",
        "```\n",
        "stops = [(in1, out1), (in2, out2), (in3, out3), (in4, out4)]\n",
        "```\n",
        "\n",
        "## Goals:\n",
        "* lists, tuples\n",
        "* while/for loops\n",
        "* minimum, maximum, length\n",
        "* average, standard deviation\n",
        "\n",
        "## Tasks\n",
        "1. Calculate the number of stops.\n",
        "2. Assign to a variable a list whose elements are the number of passengers at each stop (in-out),\n",
        "3. Find the maximum occupation of the bus.\n",
        "4. Calculate the average occupation. And the standard deviation.\n"
      ]
    },
    {
      "cell_type": "code",
      "metadata": {
        "colab_type": "code",
        "id": "UhkzyX3qs8IC",
        "outputId": "93dfd9e5-1b81-4fb6-8f57-e8da6c50a04f",
        "colab": {}
      },
      "source": [
        "# variables\n",
        "passengers_in = stops[i][0]\n",
        "passengers_out = stops[i][1]"
      ],
      "execution_count": 0,
      "outputs": [
        {
          "output_type": "error",
          "ename": "NameError",
          "evalue": "name 'stops' is not defined",
          "traceback": [
            "\u001b[0;31m---------------------------------------------------------------------------\u001b[0m",
            "\u001b[0;31mNameError\u001b[0m                                 Traceback (most recent call last)",
            "\u001b[0;32m<ipython-input-1-e12e18f088f2>\u001b[0m in \u001b[0;36m<module>\u001b[0;34m()\u001b[0m\n\u001b[1;32m      1\u001b[0m \u001b[0;31m# variables\u001b[0m\u001b[0;34m\u001b[0m\u001b[0;34m\u001b[0m\u001b[0m\n\u001b[0;32m----> 2\u001b[0;31m \u001b[0mpassengers_in\u001b[0m \u001b[0;34m=\u001b[0m \u001b[0mstops\u001b[0m\u001b[0;34m[\u001b[0m\u001b[0mi\u001b[0m\u001b[0;34m]\u001b[0m\u001b[0;34m[\u001b[0m\u001b[0;36m0\u001b[0m\u001b[0;34m]\u001b[0m\u001b[0;34m\u001b[0m\u001b[0m\n\u001b[0m\u001b[1;32m      3\u001b[0m \u001b[0mpassengers_out\u001b[0m \u001b[0;34m=\u001b[0m \u001b[0mstops\u001b[0m\u001b[0;34m[\u001b[0m\u001b[0mi\u001b[0m\u001b[0;34m]\u001b[0m\u001b[0;34m[\u001b[0m\u001b[0;36m1\u001b[0m\u001b[0;34m]\u001b[0m\u001b[0;34m\u001b[0m\u001b[0m\n",
            "\u001b[0;31mNameError\u001b[0m: name 'stops' is not defined"
          ]
        }
      ]
    },
    {
      "cell_type": "code",
      "metadata": {
        "colab_type": "code",
        "id": "3tpPiAJrs8IE",
        "outputId": "096302c7-8859-4e71-be58-67acf2225ddc",
        "colab": {
          "base_uri": "https://localhost:8080/",
          "height": 34
        }
      },
      "source": [
        "# 1. Calculate the number of stops.\n",
        "\n",
        "stops = [(1, 2), (4, 3), (4, 1), (3, 4)]\n",
        "\n",
        "total_stops = len (stops)\n",
        "print (\"total stops = \", total_stops)"
      ],
      "execution_count": 0,
      "outputs": [
        {
          "output_type": "stream",
          "text": [
            "total stops =  4\n"
          ],
          "name": "stdout"
        }
      ]
    },
    {
      "cell_type": "code",
      "metadata": {
        "colab_type": "code",
        "id": "uORoGiIqs8IG",
        "outputId": "4cb2c104-7382-444d-af0b-fb1bd3822db3",
        "colab": {
          "base_uri": "https://localhost:8080/",
          "height": 85
        }
      },
      "source": [
        "# 2. Assign a variable a list whose elements are the number of passengers in each stop: \n",
        "# Each item depends on the previous item in the list + in - out.\n",
        "stops = [(3, 2), (4, 3), (4, 1), (3, 4)]\n",
        "passengers = 0\n",
        "\n",
        "for i in range(len(stops)):\n",
        "    passengers_in = stops[i][0]\n",
        "    passengers_out = stops[i][1]\n",
        "    passengers += passengers_in - passengers_out\n",
        "    print(passengers)\n",
        "  \n",
        "  \n",
        "  \n",
        "\n"
      ],
      "execution_count": 0,
      "outputs": [
        {
          "output_type": "stream",
          "text": [
            "1\n",
            "2\n",
            "5\n",
            "4\n"
          ],
          "name": "stdout"
        }
      ]
    },
    {
      "cell_type": "code",
      "metadata": {
        "colab_type": "code",
        "id": "xhFUpKncs8II",
        "outputId": "2429cf2f-dc36-4dd9-ca65-0c3d89c8c312",
        "colab": {
          "base_uri": "https://localhost:8080/",
          "height": 34
        }
      },
      "source": [
        "# 3. Find the maximum occupation of the bus.\n",
        "\n",
        "occupation= []\n",
        "for i in range(len(stops)):\n",
        "    passengers_in = stops[i][0]\n",
        "    passengers_out = stops[i][1]\n",
        "    passengers += passengers_in - passengers_out\n",
        "    occupation.append(passengers)\n",
        "\n",
        "print(max(occupation))\n"
      ],
      "execution_count": 0,
      "outputs": [
        {
          "output_type": "stream",
          "text": [
            "13\n"
          ],
          "name": "stdout"
        }
      ]
    },
    {
      "cell_type": "code",
      "metadata": {
        "colab_type": "code",
        "id": "M15iiP8Vs8IJ",
        "outputId": "16d65497-d599-434a-f48b-23aa307861da",
        "colab": {
          "base_uri": "https://localhost:8080/",
          "height": 51
        }
      },
      "source": [
        "# 4. Calculate the average occupation. And the standard deviation.\n",
        "\n",
        "#https://www.geeksforgeeks.org/python-statistics-stdev/ \n",
        "import statistics\n",
        "\n",
        "\n",
        "print('stdev=',statistics.stdev(occupation))\n",
        "print('avg=',(sum(occupation)/len(occupation)))\n",
        "\n",
        "\n"
      ],
      "execution_count": 0,
      "outputs": [
        {
          "output_type": "stream",
          "text": [
            "stdev= 1.8257418583505538\n",
            "avg= 11.0\n"
          ],
          "name": "stdout"
        }
      ]
    },
    {
      "cell_type": "code",
      "metadata": {
        "colab_type": "code",
        "id": "9FivBFHus8IL",
        "colab": {}
      },
      "source": [
        ""
      ],
      "execution_count": 0,
      "outputs": []
    }
  ]
}