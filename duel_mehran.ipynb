{
  "nbformat": 4,
  "nbformat_minor": 0,
  "metadata": {
    "colab": {
      "name": "duel_mehran.ipynb",
      "provenance": []
    },
    "kernelspec": {
      "display_name": "Python 3",
      "language": "python",
      "name": "python3"
    },
    "language_info": {
      "codemirror_mode": {
        "name": "ipython",
        "version": 3
      },
      "file_extension": ".py",
      "mimetype": "text/x-python",
      "name": "python",
      "nbconvert_exporter": "python",
      "pygments_lexer": "ipython3",
      "version": "3.6.4"
    }
  },
  "cells": [
    {
      "cell_type": "markdown",
      "metadata": {
        "colab_type": "text",
        "id": "3tMoH8kwuQgN"
      },
      "source": [
        "# Duel of sorcerers\n",
        "You are witnessing an epic battle between two powerful sorcerers: Gandalf and Saruman. Each sorcerer has 10 spells of variable power in their mind and they are going to throw them one after the other. The winner of the duel will be the one who wins more of those clashes between spells. Spells are represented as a list of 10 integers whose value equals the power of the spell.\n",
        "```\n",
        "gandalf = [10, 11, 13, 30, 22, 11, 10, 33, 22, 22]\n",
        "saruman = [23, 66, 12, 43, 12, 10, 44, 23, 12, 17]\n",
        "```\n",
        "For example:\n",
        "1. The first clash is won by Saruman: 10 against 23, wins 23\n",
        "2. The second clash wins Saruman: 11 against 66, wins 66\n",
        "3. etc.\n",
        "\n",
        "\n",
        "You will create two variables, one for each sorcerer, where the sum of clashes won will be stored. Depending on which variable is greater at the end of the duel, you will show one of the following three results on the screen:\n",
        "* Gandalf wins\n",
        "* Saruman wins\n",
        "* Tie\n",
        "\n",
        "<img src=\"images/content_lightning_bolt_big.jpg\" width=\"400\">"
      ]
    },
    {
      "cell_type": "markdown",
      "metadata": {
        "colab_type": "text",
        "id": "ShTZhTFtuQgO"
      },
      "source": [
        "## Solution"
      ]
    },
    {
      "cell_type": "code",
      "metadata": {
        "colab_type": "code",
        "id": "itmBGrL7uQgP",
        "colab": {}
      },
      "source": [
        "# Assign spell power lists to variables\n",
        "\n",
        "gandalf = [10, 11, 13, 30, 22, 11, 10, 33, 22, 22]\n",
        "saruman = [23, 66, 12, 43, 12, 10, 44, 23, 12, 17]"
      ],
      "execution_count": 0,
      "outputs": []
    },
    {
      "cell_type": "code",
      "metadata": {
        "colab_type": "code",
        "id": "dKep4Oe0uQgS",
        "colab": {}
      },
      "source": [
        "# Assign 0 to each variable that stores the victories\n",
        "\n"
      ],
      "execution_count": 0,
      "outputs": []
    },
    {
      "cell_type": "code",
      "metadata": {
        "colab_type": "code",
        "id": "tFWOzq5ouQgU",
        "colab": {}
      },
      "source": [
        "# Execution of spell clashes\n"
      ],
      "execution_count": 0,
      "outputs": []
    },
    {
      "cell_type": "code",
      "metadata": {
        "colab_type": "code",
        "id": "Oe_FXgw3uQgW",
        "outputId": "466ff408-af55-4f94-c2c0-7ad22a82b7bf",
        "colab": {
          "base_uri": "https://localhost:8080/",
          "height": 187
        }
      },
      "source": [
        "# We check who has won, do not forget the possibility of a draw.\n",
        "# Print the result based on the winner.\n",
        "g = [10, 11, 13, 30, 22, 11, 10, 33, 22, 22]\n",
        "s = [23, 66, 12, 43, 12, 10, 44, 23, 12, 17]\n",
        "\n",
        "g_won = []\n",
        "s_won = []\n",
        "\n",
        "for e in range (len (g)):\n",
        "  \n",
        "  if g [e] > s [e]:\n",
        "      print(\"gandalf win\")\n",
        "      \n",
        "  elif g [e] < s[e]:\n",
        "      print (\"s win\")\n",
        "  else:\n",
        "      print (\"draw\")\n"
      ],
      "execution_count": 0,
      "outputs": [
        {
          "output_type": "stream",
          "text": [
            "s win\n",
            "s win\n",
            "gandalf win\n",
            "s win\n",
            "gandalf win\n",
            "gandalf win\n",
            "s win\n",
            "gandalf win\n",
            "gandalf win\n",
            "gandalf win\n"
          ],
          "name": "stdout"
        }
      ]
    },
    {
      "cell_type": "markdown",
      "metadata": {
        "colab_type": "text",
        "id": "1Ej1yA7guQgX"
      },
      "source": [
        "## Goals\n",
        "\n",
        "1. Treatment of lists\n",
        "2. Use of **for loop**\n",
        "3. Use of conditional **if-elif-else**\n",
        "4. Use of the functions **range(), len()**\n",
        "5. Print"
      ]
    },
    {
      "cell_type": "markdown",
      "metadata": {
        "colab_type": "text",
        "id": "kAFhtZMkuQgY"
      },
      "source": [
        "## Bonus\n",
        "\n",
        "1. Spells now have a name and there is a dictionary that relates that name to a power.\n",
        "2. A sorcerer wins if he succeeds in winning 3 spell clashes in a row.\n",
        "3. Average of each of the spell lists.\n",
        "4. Standard deviation of each of the spell lists.\n",
        "\n",
        "```\n",
        "POWER = {\n",
        "    'Fireball': 50, \n",
        "    'Lightning bolt': 40, \n",
        "    'Magic arrow': 10, \n",
        "    'Black Tentacles': 25, \n",
        "    'Contagion': 45\n",
        "}\n",
        "\n",
        "gandalf = ['Fireball', 'Lightning bolt', 'Lightning bolt', 'Magic arrow', 'Fireball', \n",
        "           'Magic arrow', 'Lightning bolt', 'Fireball', 'Fireball', 'Fireball']\n",
        "saruman = ['Contagion', 'Contagion', 'Black Tentacles', 'Fireball', 'Black Tentacles', \n",
        "           'Lightning bolt', 'Magic arrow', 'Contagion', 'Magic arrow', 'Magic arrow']\n",
        "```\n",
        "\n",
        "Good luck!"
      ]
    },
    {
      "cell_type": "code",
      "metadata": {
        "colab_type": "code",
        "id": "K2RfF40-uQgZ",
        "colab": {}
      },
      "source": [
        "# 1. Spells now have a name and there is a dictionary that relates that name to a power.\n",
        "# variables\n",
        "\n",
        "POWER = {\n",
        "    'Fireball': 50, \n",
        "    'Lightning bolt': 40, \n",
        "    'Magic arrow': 10, \n",
        "    'Black Tentacles': 25, \n",
        "    'Contagion': 45\n",
        "}\n",
        "\n",
        "gandalf = ['Fireball', 'Lightning bolt', 'Lightning bolt', 'Magic arrow', 'Fireball', \n",
        "           'Magic arrow', 'Lightning bolt', 'Fireball', 'Magic arrow', 'Fireball']\n",
        "saruman = ['Contagion', 'Contagion', 'Black Tentacles', 'Fireball', 'Black Tentacles', \n",
        "           'Lightning bolt', 'Magic arrow', 'Contagion', 'Magic arrow', 'Magic arrow']"
      ],
      "execution_count": 0,
      "outputs": []
    },
    {
      "cell_type": "code",
      "metadata": {
        "colab_type": "code",
        "id": "01smCKm_uQga",
        "colab": {}
      },
      "source": [
        "# Assign spell power lists to variables\n",
        "\n"
      ],
      "execution_count": 0,
      "outputs": []
    },
    {
      "cell_type": "code",
      "metadata": {
        "colab_type": "code",
        "id": "daxEzVkRuQgc",
        "colab": {}
      },
      "source": [
        "# 2. A sorcerer wins if he succeeds in winning 3 spell clashes in a row.\n",
        "\n",
        "\n",
        "# Execution of spell clashes\n",
        "\n",
        "\n",
        "\n",
        "# check for 3 wins in a row\n",
        "\n",
        "\n",
        "# check the winner\n"
      ],
      "execution_count": 0,
      "outputs": []
    },
    {
      "cell_type": "code",
      "metadata": {
        "colab_type": "code",
        "id": "8uXkbj85uQgf",
        "colab": {}
      },
      "source": [
        "# 3. Average of each of the spell lists.\n",
        "\n"
      ],
      "execution_count": 0,
      "outputs": []
    },
    {
      "cell_type": "code",
      "metadata": {
        "colab_type": "code",
        "id": "ZCZxmkqxuQgi",
        "colab": {}
      },
      "source": [
        "# 4. Standard deviation of each of the spell lists.\n",
        "\n"
      ],
      "execution_count": 0,
      "outputs": []
    },
    {
      "cell_type": "code",
      "metadata": {
        "colab_type": "code",
        "id": "m2BhkOYnuQgk",
        "colab": {}
      },
      "source": [
        ""
      ],
      "execution_count": 0,
      "outputs": []
    }
  ]
}